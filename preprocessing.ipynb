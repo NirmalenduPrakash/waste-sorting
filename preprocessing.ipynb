{
 "cells": [
  {
   "cell_type": "code",
   "execution_count": 7,
   "metadata": {},
   "outputs": [],
   "source": [
    "import cv2\n",
    "import math\n",
    "import os\n",
    "from tensorflow import random_crop\n",
    "from tensorflow import Session"
   ]
  },
  {
   "cell_type": "code",
   "execution_count": 6,
   "metadata": {},
   "outputs": [],
   "source": [
    "img=cv2.imread('pics/test.jpg')"
   ]
  },
  {
   "cell_type": "code",
   "execution_count": 7,
   "metadata": {},
   "outputs": [
    {
     "data": {
      "text/plain": [
       "(1096, 1300, 3)"
      ]
     },
     "execution_count": 7,
     "metadata": {},
     "output_type": "execute_result"
    }
   ],
   "source": [
    "img.shape"
   ]
  },
  {
   "cell_type": "code",
   "execution_count": 4,
   "metadata": {},
   "outputs": [],
   "source": [
    "centre=(math.floor(img.shape[0]/2),math.floor(img.shape[1]/2))"
   ]
  },
  {
   "cell_type": "code",
   "execution_count": 5,
   "metadata": {},
   "outputs": [],
   "source": [
    "# img_cropped=img[centre[0]-112:centre[0]+112,centre[1]-112:centre[1]+112,:]"
   ]
  },
  {
   "cell_type": "code",
   "execution_count": 6,
   "metadata": {},
   "outputs": [],
   "source": [
    "# cv2.imshow(\"cropped\",img_cropped)\n",
    "# cv2.waitKey(0)"
   ]
  },
  {
   "cell_type": "code",
   "execution_count": 8,
   "metadata": {},
   "outputs": [],
   "source": [
    "resized=cv2.resize(img,(144,96))\n",
    "# cv2.imshow(\"resized\",resized)\n",
    "# cv2.waitKey(0)"
   ]
  },
  {
   "cell_type": "code",
   "execution_count": 9,
   "metadata": {},
   "outputs": [
    {
     "data": {
      "text/plain": [
       "True"
      ]
     },
     "execution_count": 9,
     "metadata": {},
     "output_type": "execute_result"
    }
   ],
   "source": [
    "cv2.imwrite('pics/test_resized.jpg',resized)"
   ]
  },
  {
   "cell_type": "code",
   "execution_count": 6,
   "metadata": {
    "scrolled": true
   },
   "outputs": [],
   "source": [
    "rootdir='pics_whitebackground'\n",
    "total=0\n",
    "for subdir in os.listdir(rootdir):\n",
    "    if(subdir in ['can']):\n",
    "        for item in os.walk(rootdir+ \"/\"+subdir):\n",
    "            files=item[2]\n",
    "            for file in files:\n",
    "                try:\n",
    "                    img=cv2.imread(rootdir+ \"/\"+subdir+\"/\"+file)\n",
    "                    cropped=random_crop(img[:1000,:1000],[256,256,1])\n",
    "                    cv2.imwrite(rootdir+ \"/\"+subdir+'/'+str(total)+'.jpg',Session().run(cropped).reshape(256,256))\n",
    "                    cropped=random_crop(img[:1000,:1000],[256,256,1])\n",
    "                    cv2.imwrite(rootdir+ \"/\"+subdir+'/'+str(total+1)+'.jpg',Session().run(cropped).reshape(256,256))\n",
    "                    cropped=random_crop(img[:1000,:1000],[256,256,1])\n",
    "                    cv2.imwrite(rootdir+ \"/\"+subdir+'/'+str(total+2)+'.jpg',Session().run(cropped).reshape(256,256))\n",
    "                    cropped=random_crop(img[:1000,:1000],[256,256,1])\n",
    "                    cv2.imwrite(rootdir+ \"/\"+subdir+'/'+str(total+3)+'.jpg',Session().run(cropped).reshape(256,256))\n",
    "                    cropped=random_crop(img[:1000,:1000],[256,256,1])\n",
    "                    cv2.imwrite(rootdir+ \"/\"+subdir+'/'+str(total+4)+'.jpg',Session().run(cropped).reshape(256,256))\n",
    "                    total+=5\n",
    "                except:\n",
    "                    continue"
   ]
  },
  {
   "cell_type": "code",
   "execution_count": 9,
   "metadata": {},
   "outputs": [],
   "source": [
    "from tensorflow.keras.preprocessing.image import ImageDataGenerator,img_to_array,load_img"
   ]
  },
  {
   "cell_type": "code",
   "execution_count": 10,
   "metadata": {},
   "outputs": [],
   "source": [
    "datagen = ImageDataGenerator(\n",
    "        rotation_range=40,\n",
    "        width_shift_range=0,\n",
    "        height_shift_range=0,\n",
    "        shear_range=0.2,\n",
    "        zoom_range=0.2,\n",
    "        horizontal_flip=True,\n",
    "        vertical_flip=True,\n",
    "        channel_shift_range=0.4,\n",
    "        fill_mode='nearest')"
   ]
  },
  {
   "cell_type": "code",
   "execution_count": 36,
   "metadata": {},
   "outputs": [],
   "source": [
    "img = load_img('pics/takeout containers/31C5-9VddsL._SX342_.jpg')  # this is a PIL image\n",
    "x = img_to_array(img)  # this is a Numpy array with shape (3, 150, 150)\n",
    "x = x.reshape((1,) + x.shape)  # this is a Numpy array with shape (1, 3, 150, 150)\n",
    "\n",
    "# the .flow() command below generates batches of randomly transformed images\n",
    "# and saves the results to the `preview/` directory\n",
    "i = 0\n",
    "for batch in datagen.flow(x, batch_size=1,\n",
    "                          save_to_dir='pics/takeout containers/preview', save_prefix='i', save_format='jpeg'):\n",
    "    i += 1\n",
    "    if i > 20:\n",
    "        break  # otherwise the generator would loop indefinitely"
   ]
  },
  {
   "cell_type": "code",
   "execution_count": 47,
   "metadata": {},
   "outputs": [],
   "source": [
    "total=0"
   ]
  },
  {
   "cell_type": "code",
   "execution_count": 51,
   "metadata": {},
   "outputs": [],
   "source": [
    "# resizing files in a particular folder\n",
    "\n",
    "for item in os.walk('pics_highres/image data/validation/can'):\n",
    "    files=item[2]\n",
    "    for file in files:\n",
    "        try:\n",
    "            img=cv2.imread('pics_highres/image data/validation/can'+ \"/\"+file)\n",
    "            resized=cv2.resize(img,(256,256))\n",
    "            cv2.imwrite('pics_highres/image data/validation/can/resized/'+str(total)+'.jpg',resized)\n",
    "            total+=1\n",
    "        except:\n",
    "            continue"
   ]
  },
  {
   "cell_type": "code",
   "execution_count": 41,
   "metadata": {},
   "outputs": [
    {
     "data": {
      "text/plain": [
       "True"
      ]
     },
     "execution_count": 41,
     "metadata": {},
     "output_type": "execute_result"
    }
   ],
   "source": [
    "# resizing a particular file\n",
    "img=cv2.imread('pics/bottle/resized/bottle.jpg')\n",
    "resized=cv2.resize(img,(144,96))\n",
    "cv2.imwrite('pics/bottle/resized/327.jpg',resized)"
   ]
  },
  {
   "cell_type": "code",
   "execution_count": 13,
   "metadata": {},
   "outputs": [],
   "source": [
    "for item in os.walk('pics_whitebackground/can'):\n",
    "    files=item[2]\n",
    "    for file in files:\n",
    "        if(file!='.DS_Store'):\n",
    "            img = load_img('pics_whitebackground/can/'+file) \n",
    "            img=img.resize((256,256))\n",
    "            x = img_to_array(img)\n",
    "            x = x.reshape((1,) + x.shape) \n",
    "            i=0\n",
    "            for batch in datagen.flow(x, batch_size=1,\n",
    "                save_to_dir='pics_whitebackground/can_aug/', save_prefix=i, save_format='jpeg'):\n",
    "                i += 1\n",
    "                if i > 13:\n",
    "                    break "
   ]
  },
  {
   "cell_type": "code",
   "execution_count": 67,
   "metadata": {},
   "outputs": [],
   "source": [
    "def plot_img_and_hist(img, axes, bins=256):\n",
    "    \"\"\"Plot an image along with its histogram and cumulative histogram.\n",
    "\n",
    "    \"\"\"\n",
    "    img = img_as_float(img)\n",
    "    ax_img, ax_hist = axes\n",
    "    ax_cdf = ax_hist.twinx()\n",
    "\n",
    "    # Display image\n",
    "    ax_img.imshow(img, cmap=plt.cm.gray)\n",
    "    ax_img.set_axis_off()\n",
    "    ax_img.set_adjustable('box-forced')\n",
    "\n",
    "    # Display histogram\n",
    "    ax_hist.hist(img.ravel(), bins=bins, histtype='step', color='black')\n",
    "    ax_hist.ticklabel_format(axis='y', style='scientific', scilimits=(0, 0))\n",
    "    ax_hist.set_xlabel('Pixel intensity')\n",
    "    ax_hist.set_xlim(0, 1)\n",
    "    ax_hist.set_yticks([])\n",
    "\n",
    "    # Display cumulative distribution\n",
    "    img_cdf, bins = exposure.cumulative_distribution(img, bins)\n",
    "    ax_cdf.plot(bins, img_cdf, 'r')\n",
    "    ax_cdf.set_yticks([])\n",
    "\n",
    "    return ax_img, ax_hist, ax_cdf"
   ]
  },
  {
   "cell_type": "code",
   "execution_count": 68,
   "metadata": {},
   "outputs": [
    {
     "name": "stderr",
     "output_type": "stream",
     "text": [
      "/anaconda3/lib/python3.6/site-packages/skimage/exposure/exposure.py:63: UserWarning: This might be a color image. The histogram will be computed on the flattened image. You can instead apply this function to each color channel.\n",
      "  warn(\"This might be a color image. The histogram will be \"\n",
      "/anaconda3/lib/python3.6/site-packages/skimage/color/colorconv.py:274: RuntimeWarning: divide by zero encountered in true_divide\n",
      "  out[idx, 0] = (arr[idx, 1] - arr[idx, 2]) / delta[idx]\n",
      "/anaconda3/lib/python3.6/site-packages/skimage/color/colorconv.py:278: RuntimeWarning: divide by zero encountered in true_divide\n",
      "  out[idx, 0] = 2. + (arr[idx, 2] - arr[idx, 0]) / delta[idx]\n",
      "/anaconda3/lib/python3.6/site-packages/skimage/color/colorconv.py:282: RuntimeWarning: divide by zero encountered in true_divide\n",
      "  out[idx, 0] = 4. + (arr[idx, 0] - arr[idx, 1]) / delta[idx]\n",
      "/anaconda3/lib/python3.6/site-packages/skimage/util/dtype.py:122: UserWarning: Possible precision loss when converting from float64 to uint16\n",
      "  .format(dtypeobj_in, dtypeobj_out))\n",
      "/anaconda3/lib/python3.6/site-packages/matplotlib/axes/_base.py:1400: MatplotlibDeprecationWarning: The 'box-forced' keyword argument is deprecated since 2.2.\n",
      "  \" since 2.2.\", cbook.mplDeprecation)\n"
     ]
    },
    {
     "data": {
      "image/png": "[encoded data removed]",
      "text/plain": [
       "<Figure size 576x360 with 12 Axes>"
      ]
     },
     "metadata": {},
     "output_type": "display_data"
    }
   ],
   "source": [
    "from skimage import data, img_as_float\n",
    "from skimage import exposure\n",
    "import matplotlib\n",
    "import matplotlib.pyplot as plt\n",
    "import numpy as np\n",
    "\n",
    "# Lets try augmenting a cifar10 image using these techniques\n",
    "from skimage import data, img_as_float\n",
    "from skimage import exposure\n",
    "\n",
    "# Load an example image from cifar10 dataset\n",
    "img = cv2.imread('pics_highres/bottle/resized/87.jpg')\n",
    "\n",
    "# Set font size for images\n",
    "matplotlib.rcParams['font.size'] = 8\n",
    "\n",
    "# Contrast stretching\n",
    "p2, p98 = np.percentile(img, (2, 98))\n",
    "img_rescale = exposure.rescale_intensity(img, in_range=(p2, p98))\n",
    "\n",
    "# Histogram Equalization\n",
    "img_eq = exposure.equalize_hist(img)\n",
    "\n",
    "# Adaptive Equalization\n",
    "img_adapteq = exposure.equalize_adapthist(img, clip_limit=0.03)\n",
    "\n",
    "#### Everything below here is just to create the plot/graphs ####\n",
    "\n",
    "# Display results\n",
    "fig = plt.figure(figsize=(8, 5)) \n",
    "axes = np.zeros((2, 4), dtype=np.object)\n",
    "axes[0, 0] = fig.add_subplot(2, 4, 1)\n",
    "for i in range(1, 4):\n",
    "    axes[0, i] = fig.add_subplot(2, 4, 1+i, sharex=axes[0,0], sharey=axes[0,0])\n",
    "for i in range(0, 4):\n",
    "    axes[1, i] = fig.add_subplot(2, 4, 5+i)\n",
    "    \n",
    "ax_img, ax_hist, ax_cdf = plot_img_and_hist(img, axes[:, 0])\n",
    "ax_img.set_title('Low contrast image')\n",
    "\n",
    "y_min, y_max = ax_hist.get_ylim()\n",
    "ax_hist.set_ylabel('Number of pixels')\n",
    "ax_hist.set_yticks(np.linspace(0, y_max, 5))\n",
    "\n",
    "ax_img, ax_hist, ax_cdf = plot_img_and_hist(img_rescale, axes[:, 1])\n",
    "ax_img.set_title('Contrast stretching')\n",
    "\n",
    "ax_img, ax_hist, ax_cdf = plot_img_and_hist(img_eq, axes[:, 2])\n",
    "ax_img.set_title('Histogram equalization')\n",
    "\n",
    "ax_img, ax_hist, ax_cdf = plot_img_and_hist(img_adapteq, axes[:, 3])\n",
    "ax_img.set_title('Adaptive equalization')\n",
    "\n",
    "ax_cdf.set_ylabel('Fraction of total intensity')\n",
    "ax_cdf.set_yticks(np.linspace(0, 1, 5))\n",
    "\n",
    "# prevent overlap of y-axis labels\n",
    "fig.tight_layout()\n",
    "plt.show()"
   ]
  },
  {
   "cell_type": "code",
   "execution_count": null,
   "metadata": {},
   "outputs": [],
   "source": []
  },
  {
   "cell_type": "code",
   "execution_count": null,
   "metadata": {},
   "outputs": [],
   "source": []
  },
  {
   "cell_type": "code",
   "execution_count": null,
   "metadata": {},
   "outputs": [],
   "source": []
  },
  {
   "cell_type": "code",
   "execution_count": null,
   "metadata": {},
   "outputs": [],
   "source": []
  }
 ],
 "metadata": {
  "kernelspec": {
   "display_name": "Python 3",
   "language": "python",
   "name": "python3"
  },
  "language_info": {
   "codemirror_mode": {
    "name": "ipython",
    "version": 3
   },
   "file_extension": ".py",
   "mimetype": "text/x-python",
   "name": "python",
   "nbconvert_exporter": "python",
   "pygments_lexer": "ipython3",
   "version": "3.6.5"
  }
 },
 "nbformat": 4,
 "nbformat_minor": 2
}
