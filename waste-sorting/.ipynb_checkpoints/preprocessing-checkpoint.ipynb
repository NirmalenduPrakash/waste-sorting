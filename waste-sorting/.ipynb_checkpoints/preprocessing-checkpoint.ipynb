{
 "cells": [
  {
   "cell_type": "code",
   "execution_count": 7,
   "metadata": {},
   "outputs": [],
   "source": [
    "import cv2\n",
    "import math\n",
    "import os\n",
    "from tensorflow import random_crop\n",
    "from tensorflow import Session"
   ]
  },
  {
   "cell_type": "markdown",
   "metadata": {},
   "source": [
    "### for each image create 5 random crops"
   ]
  },
  {
   "cell_type": "code",
   "execution_count": 6,
   "metadata": {
    "scrolled": true
   },
   "outputs": [],
   "source": [
    "rootdir='pics'\n",
    "total=0\n",
    "for subdir in os.listdir(rootdir):\n",
    "    if(subdir in ['plastic','paper','can']):\n",
    "        for item in os.walk(rootdir+ \"/\"+subdir):\n",
    "            files=item[2]\n",
    "            for file in files:\n",
    "                try:\n",
    "                    img=cv2.imread(rootdir+ \"/\"+subdir+\"/\"+file)\n",
    "                    cropped=random_crop(img[:1000,:1000],[256,256,1])\n",
    "                    cv2.imwrite(rootdir+ \"/\"+subdir+'/'+str(total)+'.jpg',Session().run(cropped).reshape(256,256))\n",
    "                    cropped=random_crop(img[:1000,:1000],[256,256,1])\n",
    "                    cv2.imwrite(rootdir+ \"/\"+subdir+'/'+str(total+1)+'.jpg',Session().run(cropped).reshape(256,256))\n",
    "                    cropped=random_crop(img[:1000,:1000],[256,256,1])\n",
    "                    cv2.imwrite(rootdir+ \"/\"+subdir+'/'+str(total+2)+'.jpg',Session().run(cropped).reshape(256,256))\n",
    "                    cropped=random_crop(img[:1000,:1000],[256,256,1])\n",
    "                    cv2.imwrite(rootdir+ \"/\"+subdir+'/'+str(total+3)+'.jpg',Session().run(cropped).reshape(256,256))\n",
    "                    cropped=random_crop(img[:1000,:1000],[256,256,1])\n",
    "                    cv2.imwrite(rootdir+ \"/\"+subdir+'/'+str(total+4)+'.jpg',Session().run(cropped).reshape(256,256))\n",
    "                    total+=5\n",
    "                except:\n",
    "                    continue"
   ]
  },
  {
   "cell_type": "markdown",
   "metadata": {},
   "source": [
    "## rotate, flip, create random noise to create more training images so that model is robust"
   ]
  },
  {
   "cell_type": "code",
   "execution_count": 9,
   "metadata": {},
   "outputs": [],
   "source": [
    "from tensorflow.keras.preprocessing.image import ImageDataGenerator,img_to_array,load_img"
   ]
  },
  {
   "cell_type": "code",
   "execution_count": 10,
   "metadata": {},
   "outputs": [],
   "source": [
    "datagen = ImageDataGenerator(\n",
    "        rotation_range=40,\n",
    "        width_shift_range=0,\n",
    "        height_shift_range=0,\n",
    "        shear_range=0.2,\n",
    "        zoom_range=0.2,\n",
    "        horizontal_flip=True,\n",
    "        vertical_flip=True,\n",
    "        channel_shift_range=0.4,\n",
    "        fill_mode='nearest')"
   ]
  },
  {
   "cell_type": "code",
   "execution_count": 13,
   "metadata": {},
   "outputs": [],
   "source": [
    "#augmentation for can images\n",
    "for item in os.walk('pics/can'):\n",
    "    files=item[2]\n",
    "    for file in files:\n",
    "        #ignoring a system file\n",
    "        if(file!='.DS_Store'):\n",
    "            img = load_img('pics/can/'+file) \n",
    "            img=img.resize((256,256))\n",
    "            x = img_to_array(img)\n",
    "            x = x.reshape((1,) + x.shape) \n",
    "            i=0\n",
    "            for batch in datagen.flow(x, batch_size=1,\n",
    "                save_to_dir='pics/can_aug/', save_prefix=i, save_format='jpeg'):\n",
    "                i += 1\n",
    "                #creating 13 versions of an image\n",
    "                if i > 13:\n",
    "                    break \n",
    "#augmentation for plastic images\n",
    "for item in os.walk('pics/plastic'):\n",
    "    files=item[2]\n",
    "    for file in files:\n",
    "        #ignoring a system file\n",
    "        if(file!='.DS_Store'):\n",
    "            img = load_img('pics/plastic/'+file) \n",
    "            img=img.resize((256,256))\n",
    "            x = img_to_array(img)\n",
    "            x = x.reshape((1,) + x.shape) \n",
    "            i=0\n",
    "            for batch in datagen.flow(x, batch_size=1,\n",
    "                save_to_dir='pics/plastic_aug/', save_prefix=i, save_format='jpeg'):\n",
    "                i += 1\n",
    "                #creating 10 versions of an image\n",
    "                if i > 10:\n",
    "                    break\n",
    "#augmentation for paper images\n",
    "for item in os.walk('pics/paper'):\n",
    "    files=item[2]\n",
    "    for file in files:\n",
    "        #ignoring a system file\n",
    "        if(file!='.DS_Store'):\n",
    "            img = load_img('pics/paper/'+file) \n",
    "            img=img.resize((256,256))\n",
    "            x = img_to_array(img)\n",
    "            x = x.reshape((1,) + x.shape) \n",
    "            i=0\n",
    "            for batch in datagen.flow(x, batch_size=1,\n",
    "                save_to_dir='pics/paper_aug/', save_prefix=i, save_format='jpeg'):\n",
    "                i += 1\n",
    "                #creating 17 versions of an image\n",
    "                if i > 17:\n",
    "                    break                    "
   ]
  },
  {
   "cell_type": "markdown",
   "metadata": {},
   "source": [
    "## write training and test data and labels in .h5 file"
   ]
  },
  {
   "cell_type": "code",
   "execution_count": null,
   "metadata": {},
   "outputs": [],
   "source": [
    "# training data\n",
    "image_height=256\n",
    "image_width=256\n",
    "img_count=3024\n",
    "dataset=np.zeros(shape=(img_count,image_height,image_width))\n",
    "labelset=np.zeros(shape=(img_count))\n",
    "i=0\n",
    "for item in os.walk('pics/plastic_aug'):\n",
    "    files=item[2]\n",
    "    for file in files:\n",
    "        try:\n",
    "            img=cv2.imread('pics/plastic_aug/'+file)\n",
    "            img=cv2.resize(img,(image_height,image_width))\n",
    "            img=cv2.cvtColor(img, cv2.COLOR_BGR2GRAY)\n",
    "            labelset[i]=0\n",
    "            dataset[i]=img\n",
    "            i+=1\n",
    "        except:\n",
    "            continue\n",
    "for item in os.walk('pics/paper_aug'):\n",
    "    files=item[2]\n",
    "    for file in files:\n",
    "        try:\n",
    "            img=cv2.imread('pics/paper_aug/'+file)\n",
    "            img=cv2.resize(img,(image_height,image_width))\n",
    "            img=cv2.cvtColor(img, cv2.COLOR_BGR2GRAY)\n",
    "            dataset[i]=img\n",
    "            labelset[i]=1\n",
    "            i+=1\n",
    "        except:\n",
    "            continue    \n",
    "for item in os.walk('pics/can_aug'):\n",
    "    files=item[2]\n",
    "    for file in files:\n",
    "        try:\n",
    "            img=cv2.imread('pics/can_aug/'+file)\n",
    "            img=cv2.resize(img,(image_height,image_width))\n",
    "            img=cv2.cvtColor(img, cv2.COLOR_BGR2GRAY)\n",
    "            labelset[i]=2\n",
    "            dataset[i]=img\n",
    "            i+=1\n",
    "        except:\n",
    "            continue "
   ]
  },
  {
   "cell_type": "code",
   "execution_count": null,
   "metadata": {},
   "outputs": [],
   "source": [
    "import h5py\n",
    "h5f = h5py.File('pics/img_train_gray.h5', 'w')\n",
    "h5f.create_dataset('data', data=dataset)\n",
    "h5f.create_dataset('label', data=labelset)\n",
    "h5f.close()"
   ]
  },
  {
   "cell_type": "code",
   "execution_count": null,
   "metadata": {},
   "outputs": [],
   "source": [
    "# validation data\n",
    "image_height=256\n",
    "image_width=256\n",
    "img_count=127\n",
    "dataset=np.zeros(shape=(img_count,image_height,image_width))\n",
    "labelset=np.zeros(shape=(img_count))\n",
    "i=0\n",
    "for item in os.walk('pics/Validation/plastic'):\n",
    "    files=item[2]\n",
    "    for file in files:\n",
    "        try:\n",
    "            img=cv2.imread('pics/Validation/plastic/'+file)\n",
    "            img=cv2.resize(img,(image_height,image_width))\n",
    "            img=cv2.cvtColor(img, cv2.COLOR_BGR2GRAY)\n",
    "            labelset[i]=0\n",
    "            dataset[i]=img\n",
    "            i+=1\n",
    "        except:\n",
    "            continue\n",
    "for item in os.walk('pics/Validation/paper'):\n",
    "    files=item[2]\n",
    "    for file in files:\n",
    "        try:\n",
    "            img=cv2.imread('pics/Validation/paper/'+file)\n",
    "            img=cv2.resize(img,(image_height,image_width))\n",
    "            img=cv2.cvtColor(img, cv2.COLOR_BGR2GRAY)\n",
    "            dataset[i]=img\n",
    "            labelset[i]=1\n",
    "            i+=1\n",
    "        except:\n",
    "            continue    \n",
    "for item in os.walk('pics/Validation/can'):\n",
    "    files=item[2]\n",
    "    for file in files:\n",
    "        try:\n",
    "            img=cv2.imread('pics/Validation/can/'+file)\n",
    "            img=cv2.resize(img,(image_height,image_width))\n",
    "            img=cv2.cvtColor(img, cv2.COLOR_BGR2GRAY)\n",
    "            labelset[i]=2\n",
    "            dataset[i]=img\n",
    "            i+=1\n",
    "        except:\n",
    "            continue "
   ]
  },
  {
   "cell_type": "code",
   "execution_count": null,
   "metadata": {},
   "outputs": [],
   "source": [
    "h5f = h5py.File('pics/img_val_gray.h5', 'w')\n",
    "h5f.create_dataset('data', data=dataset)\n",
    "h5f.create_dataset('label', data=labelset)\n",
    "h5f.close()"
   ]
  }
 ],
 "metadata": {
  "kernelspec": {
   "display_name": "Python 3",
   "language": "python",
   "name": "python3"
  },
  "language_info": {
   "codemirror_mode": {
    "name": "ipython",
    "version": 3
   },
   "file_extension": ".py",
   "mimetype": "text/x-python",
   "name": "python",
   "nbconvert_exporter": "python",
   "pygments_lexer": "ipython3",
   "version": "3.6.5"
  }
 },
 "nbformat": 4,
 "nbformat_minor": 2
}
